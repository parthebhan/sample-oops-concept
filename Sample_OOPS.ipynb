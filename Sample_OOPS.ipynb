{
  "nbformat": 4,
  "nbformat_minor": 0,
  "metadata": {
    "colab": {
      "provenance": []
    },
    "kernelspec": {
      "name": "python3",
      "display_name": "Python 3"
    },
    "language_info": {
      "name": "python"
    }
  },
  "cells": [
    {
      "cell_type": "code",
      "execution_count": 38,
      "metadata": {
        "colab": {
          "base_uri": "https://localhost:8080/"
        },
        "id": "QPK8GBBOv0Or",
        "outputId": "150a4669-b17d-4b8c-ba9a-430e44fa0ad7"
      },
      "outputs": [
        {
          "output_type": "stream",
          "name": "stdout",
          "text": [
            "New salary for John Doe: 65000\n",
            "\n",
            "Name: John Doe\n",
            "Employee ID: 101\n",
            "Position: Developer\n",
            "Salary: 65000\n",
            "\n",
            "Name: Jane Smith\n",
            "Employee ID: 102\n",
            "Position: Designer\n",
            "Salary: 55000\n",
            "\n",
            "New salary John Doe: 71500.0\n",
            "\n",
            "New salary Jane Smith : 56650.0\n",
            "\n",
            "Name: John Doe\n",
            "Employee ID: 101\n",
            "Position: Developer\n",
            "Salary: 71500.0\n",
            "\n",
            "Name: Jane Smith\n",
            "Employee ID: 102\n",
            "Position: Designer\n",
            "Salary: 56650.0\n"
          ]
        }
      ],
      "source": [
        "class Employee:\n",
        "    def __init__(self, name, employee_id, position, salary):\n",
        "        self.name = name\n",
        "        self.employee_id = employee_id\n",
        "        self.position = position\n",
        "        self.salary = salary\n",
        "\n",
        "    def display_info(self):\n",
        "        print(f\"\\nName: {self.name}\")\n",
        "        print(f\"Employee ID: {self.employee_id}\")\n",
        "        print(f\"Position: {self.position}\")\n",
        "        print(f\"Salary: {self.salary}\")\n",
        "\n",
        "    def give_raise(self,salary_raise):\n",
        "        self.salary += salary_raise\n",
        "        print(f\"New salary for {self.name}: {self.salary}\")\n",
        "\n",
        "    def give_performance_raise(self,performance_raise):\n",
        "        if (performance_raise == 'Excellent'):\n",
        "            self.salary = round(self.salary * 1.1,0)\n",
        "            print(f\"\\nNew salary {self.name}: {self.salary}\")\n",
        "        elif(performance_raise == 'Good'):\n",
        "            self.salary = round(self.salary * 1.07,0)\n",
        "            print(f\"\\nNew salary of {self.name}: {self.salary}\")\n",
        "        elif(performance_raise == 'Average'):\n",
        "            self.salary = round(self.salary * 1.03,0)\n",
        "            print(f\"\\nNew salary {self.name} : {self.salary}\")\n",
        "        elif(performance_raise == 'Poor'):\n",
        "            self.salary = self.salary\n",
        "            print(f\"\\nNew salary {self.name} : {self.salary}\")\n",
        "        else:\n",
        "            print(\"Invalid performance raise\")\n",
        "\n",
        "\n",
        "# Example usage\n",
        "emp1 = Employee(\"John Doe\", 101, \"Developer\", 60000)\n",
        "emp2 = Employee(\"Jane Smith\", 102, \"Designer\", 55000)\n",
        "\n",
        "# Giving a raise to emp1\n",
        "emp1.give_raise(5000)  # John's salary should now be 65000\n",
        "\n",
        "# Displaying updated information\n",
        "emp1.display_info()\n",
        "emp2.display_info()\n",
        "\n",
        "emp1.give_performance_raise('Excellent')\n",
        "emp2.give_performance_raise('Average')\n",
        "\n",
        "# Displaying updated information\n",
        "emp1.display_info()\n",
        "emp2.display_info()\n",
        "\n"
      ]
    }
  ]
}