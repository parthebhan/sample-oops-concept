{
  "nbformat": 4,
  "nbformat_minor": 0,
  "metadata": {
    "colab": {
      "provenance": []
    },
    "kernelspec": {
      "name": "python3",
      "display_name": "Python 3"
    },
    "language_info": {
      "name": "python"
    }
  },
  "cells": [
    {
      "cell_type": "code",
      "execution_count": 1,
      "metadata": {
        "colab": {
          "base_uri": "https://localhost:8080/"
        },
        "id": "5qt2ompPeKOy",
        "outputId": "72bc2a11-b916-46b2-c335-8ddaab17f6f3"
      },
      "outputs": [
        {
          "output_type": "stream",
          "name": "stdout",
          "text": [
            "New salary for John Doe: 65000\n",
            "\n",
            "Name: John Doe\n",
            "Employee ID: 101\n",
            "Position: Developer\n",
            "Salary: 65000\n",
            "\n",
            "Name: Jane Smith\n",
            "Employee ID: 102\n",
            "Position: Designer\n",
            "Salary: 55000\n",
            "\n",
            "New salary John Doe: 71500.0\n",
            "\n",
            "New salary Jane Smith : 56650.0\n",
            "\n",
            "Name: John Doe\n",
            "Employee ID: 101\n",
            "Position: Developer\n",
            "Salary: 71500.0\n",
            "\n",
            "Name: Jane Smith\n",
            "Employee ID: 102\n",
            "Position: Designer\n",
            "Salary: 56650.0\n"
          ]
        }
      ],
      "source": [
        "class Employee:\n",
        "    def __init__(self, name, employee_id, position, salary):\n",
        "        self.name = name\n",
        "        self.employee_id = employee_id\n",
        "        self.position = position\n",
        "        self.salary = salary\n",
        "\n",
        "    def display_info(self):\n",
        "        print(f\"\\nName: {self.name}\")\n",
        "        print(f\"Employee ID: {self.employee_id}\")\n",
        "        print(f\"Position: {self.position}\")\n",
        "        print(f\"Salary: {self.salary}\")\n",
        "\n",
        "    def give_raise(self,salary_raise):\n",
        "        self.salary += salary_raise\n",
        "        print(f\"New salary for {self.name}: {self.salary}\")\n",
        "\n",
        "    def give_performance_raise(self,performance_raise):\n",
        "        if (performance_raise == 'Excellent'):\n",
        "            self.salary = round(self.salary * 1.1,0)\n",
        "            print(f\"\\nNew salary {self.name}: {self.salary}\")\n",
        "        elif(performance_raise == 'Good'):\n",
        "            self.salary = round(self.salary * 1.07,0)\n",
        "            print(f\"\\nNew salary of {self.name}: {self.salary}\")\n",
        "        elif(performance_raise == 'Average'):\n",
        "            self.salary = round(self.salary * 1.03,0)\n",
        "            print(f\"\\nNew salary {self.name} : {self.salary}\")\n",
        "        elif(performance_raise == 'Poor'):\n",
        "            self.salary = self.salary\n",
        "            print(f\"\\nNew salary {self.name} : {self.salary}\")\n",
        "        else:\n",
        "            print(\"Invalid performance raise\")\n",
        "\n",
        "\n",
        "# Example usage\n",
        "emp1 = Employee(\"John Doe\", 101, \"Developer\", 60000)\n",
        "emp2 = Employee(\"Jane Smith\", 102, \"Designer\", 55000)\n",
        "\n",
        "# Giving a raise to emp1\n",
        "emp1.give_raise(5000)  # John's salary should now be 65000\n",
        "\n",
        "# Displaying updated information\n",
        "emp1.display_info()\n",
        "emp2.display_info()\n",
        "\n",
        "emp1.give_performance_raise('Excellent')\n",
        "emp2.give_performance_raise('Average')\n",
        "\n",
        "# Displaying updated information\n",
        "emp1.display_info()\n",
        "emp2.display_info()\n",
        "\n",
        "\n"
      ]
    },
    {
      "cell_type": "code",
      "source": [
        "    Initial Setup\n",
        "\n",
        "    import pytest\n",
        "    class Account:\n",
        "      def __init__(self, config):\n",
        "        self.config = config\n",
        "\n",
        "    def test_rent_roll_returns_0_when_there_are_no_properties():\n",
        "      account = Account({})\n",
        "      assert account.rent_roll()==0\n",
        "    pytest.main()\n",
        "\n",
        "    Certainly:\n",
        "\n",
        "    We're developing a property management tool for our client. When a user logs into an account they should see a number that represents the current total rent - the rent roll - of their properties.\n",
        "\n",
        "    We've already established a model for the account. I'd like to collaborate with you to incorporate a rent roll function. I'll be introducing tests and requesting your assistance in completing the code.\n",
        "\n",
        "    Q1) What outcome do you anticipate if we execute this code?\n",
        "\n",
        "    Q2) Could you please incorporate the necessary code adjustments to ensure the test passes?\n",
        "    Resource:- https://onecompiler.com/python/42htx4v36"
      ],
      "metadata": {
        "id": "dApzU0Y4ODyY",
        "colab": {
          "base_uri": "https://localhost:8080/",
          "height": 108
        },
        "outputId": "77df69e3-fbc3-437a-d7c5-f9475d7c8d49"
      },
      "execution_count": 2,
      "outputs": [
        {
          "output_type": "error",
          "ename": "SyntaxError",
          "evalue": "unterminated string literal (detected at line 15) (<ipython-input-2-db9449091b7c>, line 15)",
          "traceback": [
            "\u001b[0;36m  File \u001b[0;32m\"<ipython-input-2-db9449091b7c>\"\u001b[0;36m, line \u001b[0;32m15\u001b[0m\n\u001b[0;31m    We're developing a property management tool for our client. When a user logs into an account they should see a number that represents the current total rent - the rent roll - of their properties.\u001b[0m\n\u001b[0m      ^\u001b[0m\n\u001b[0;31mSyntaxError\u001b[0m\u001b[0;31m:\u001b[0m unterminated string literal (detected at line 15)\n"
          ]
        }
      ]
    },
    {
      "cell_type": "code",
      "source": [
        "class Account:\n",
        "    def __init__(self, config):\n",
        "        self.config = config\n",
        "        self.properties = []\n",
        "\n",
        "    def rent_roll(self):\n",
        "        return sum(self.properties)\n",
        "\n",
        "    def test_rent_roll_returns_0_when_there_are_no_properties(self):\n",
        "        account = Account({})\n",
        "        assert account.rent_roll() == 0\n",
        "        print(\"Assertion passed successful account and rent roll is 0\")\n",
        "\n",
        "# Creating an instance of Account\n",
        "acc1 = Account({})\n",
        "\n",
        "# Running the test method\n",
        "acc1.test_rent_roll_returns_0_when_there_are_no_properties()\n"
      ],
      "metadata": {
        "colab": {
          "base_uri": "https://localhost:8080/"
        },
        "id": "SkWXMdkcMWoR",
        "outputId": "605db157-b8aa-4693-ae1c-5bb3238d0cf9"
      },
      "execution_count": 3,
      "outputs": [
        {
          "output_type": "stream",
          "name": "stdout",
          "text": [
            "Assertion passed successful account and rent roll is 0\n"
          ]
        }
      ]
    },
    {
      "cell_type": "code",
      "source": [
        "class Account:\n",
        "    def __init__(self, config):\n",
        "        self.config = config\n",
        "        self.properties = []\n",
        "\n",
        "    def rent_roll(self):\n",
        "        return sum(self.properties)\n",
        "\n",
        "    def test_rent_roll_returns_0_when_there_are_no_properties(self):\n",
        "        account = Account({})\n",
        "        assert account.rent_roll() == 0\n",
        "        print(\"0 - Assertion passed successful\")\n",
        "\n",
        "    def add_property(self,price):\n",
        "        self.properties.append(price)\n",
        "        print(self.properties)\n",
        "\n",
        "    def test_rent_roll_returns_the_sum_of_the_properties_rents(self):\n",
        "        account = Account({})\n",
        "        account.add_property(5000)\n",
        "        account.add_property(500)\n",
        "        assert account.rent_roll() == 5500\n",
        "        print(\"5500 -  Assertion passed successful\")\n",
        "\n",
        "# Creating an instance of Account\n",
        "acc1 = Account({})\n",
        "\n",
        "acc1.test_rent_roll_returns_the_sum_of_the_properties_rents()\n",
        "\n"
      ],
      "metadata": {
        "colab": {
          "base_uri": "https://localhost:8080/"
        },
        "id": "fGudY9Yp92oH",
        "outputId": "706c8827-b009-4b13-85f2-6db600ae0635"
      },
      "execution_count": 4,
      "outputs": [
        {
          "output_type": "stream",
          "name": "stdout",
          "text": [
            "[5000]\n",
            "[5000, 500]\n",
            "5500 -  Assertion passed successful\n"
          ]
        }
      ]
    }
  ]
}